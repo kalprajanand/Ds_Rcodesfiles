{
  "nbformat": 4,
  "nbformat_minor": 0,
  "metadata": {
    "colab": {
      "provenance": [],
      "authorship_tag": "ABX9TyNd5gCXxCPxMYoMjuFO7khD",
      "include_colab_link": true
    },
    "kernelspec": {
      "name": "python3",
      "display_name": "Python 3"
    },
    "language_info": {
      "name": "python"
    }
  },
  "cells": [
    {
      "cell_type": "markdown",
      "metadata": {
        "id": "view-in-github",
        "colab_type": "text"
      },
      "source": [
        "<a href=\"https://colab.research.google.com/github/kalprajanand/Ds_Rcodesfiles/blob/main/prc.ipynb\" target=\"_parent\"><img src=\"https://colab.research.google.com/assets/colab-badge.svg\" alt=\"Open In Colab\"/></a>"
      ]
    },
    {
      "cell_type": "code",
      "execution_count": null,
      "metadata": {
        "id": "Dd0-SpmkAz_b"
      },
      "outputs": [],
      "source": [
        "import numpy as np"
      ]
    },
    {
      "cell_type": "code",
      "source": [
        "a=np.array([1,2,3,4,5])\n",
        "b=np.array([10,12,20,30,40])\n",
        "c= np.array([3,5,6])"
      ],
      "metadata": {
        "id": "5wCZYTVSBCws"
      },
      "execution_count": null,
      "outputs": []
    },
    {
      "cell_type": "code",
      "source": [
        "a+b\n"
      ],
      "metadata": {
        "colab": {
          "base_uri": "https://localhost:8080/"
        },
        "id": "aFMlhu6IBYUw",
        "outputId": "b64cdda5-76c9-48fc-9228-1d8e0dcb5982"
      },
      "execution_count": null,
      "outputs": [
        {
          "output_type": "execute_result",
          "data": {
            "text/plain": [
              "array([11, 14, 23, 34, 45])"
            ]
          },
          "metadata": {},
          "execution_count": 3
        }
      ]
    },
    {
      "cell_type": "code",
      "source": [
        "b+c"
      ],
      "metadata": {
        "colab": {
          "base_uri": "https://localhost:8080/",
          "height": 176
        },
        "id": "v5ILnlywBai9",
        "outputId": "55bdfdc9-5448-446f-9b34-7b2372e8c4d7"
      },
      "execution_count": null,
      "outputs": [
        {
          "output_type": "error",
          "ename": "NameError",
          "evalue": "ignored",
          "traceback": [
            "\u001b[0;31m---------------------------------------------------------------------------\u001b[0m",
            "\u001b[0;31mNameError\u001b[0m                                 Traceback (most recent call last)",
            "\u001b[0;32m<ipython-input-5-921cdd4e6dfb>\u001b[0m in \u001b[0;36m<cell line: 1>\u001b[0;34m()\u001b[0m\n\u001b[0;32m----> 1\u001b[0;31m \u001b[0mb\u001b[0m\u001b[0;34m+\u001b[0m\u001b[0mc\u001b[0m\u001b[0;34m\u001b[0m\u001b[0;34m\u001b[0m\u001b[0m\n\u001b[0m",
            "\u001b[0;31mNameError\u001b[0m: name 'c' is not defined"
          ]
        }
      ]
    },
    {
      "cell_type": "code",
      "source": [
        "a-b"
      ],
      "metadata": {
        "colab": {
          "base_uri": "https://localhost:8080/"
        },
        "id": "pyHdu33ABlrV",
        "outputId": "72a50965-0c9c-4e14-88fe-c2cb69e0f494"
      },
      "execution_count": null,
      "outputs": [
        {
          "output_type": "execute_result",
          "data": {
            "text/plain": [
              "array([ -9, -10, -17, -26, -35])"
            ]
          },
          "metadata": {},
          "execution_count": 6
        }
      ]
    },
    {
      "cell_type": "code",
      "source": [
        "a-c"
      ],
      "metadata": {
        "colab": {
          "base_uri": "https://localhost:8080/",
          "height": 176
        },
        "id": "LfAtOKXgBoi2",
        "outputId": "adc61797-99ab-4c01-be3d-690c8d160a03"
      },
      "execution_count": null,
      "outputs": [
        {
          "output_type": "error",
          "ename": "ValueError",
          "evalue": "ignored",
          "traceback": [
            "\u001b[0;31m---------------------------------------------------------------------------\u001b[0m",
            "\u001b[0;31mValueError\u001b[0m                                Traceback (most recent call last)",
            "\u001b[0;32m<ipython-input-9-6f0e715cd956>\u001b[0m in \u001b[0;36m<cell line: 1>\u001b[0;34m()\u001b[0m\n\u001b[0;32m----> 1\u001b[0;31m \u001b[0ma\u001b[0m\u001b[0;34m-\u001b[0m\u001b[0mc\u001b[0m\u001b[0;34m\u001b[0m\u001b[0;34m\u001b[0m\u001b[0m\n\u001b[0m",
            "\u001b[0;31mValueError\u001b[0m: operands could not be broadcast together with shapes (5,) (3,) "
          ]
        }
      ]
    },
    {
      "cell_type": "code",
      "source": [
        "a/b"
      ],
      "metadata": {
        "colab": {
          "base_uri": "https://localhost:8080/"
        },
        "id": "3DR_cd-kBxc-",
        "outputId": "54428cd6-fee4-42e1-dbaf-1bb51bb2148b"
      },
      "execution_count": null,
      "outputs": [
        {
          "output_type": "execute_result",
          "data": {
            "text/plain": [
              "array([0.1       , 0.16666667, 0.15      , 0.13333333, 0.125     ])"
            ]
          },
          "metadata": {},
          "execution_count": 10
        }
      ]
    },
    {
      "cell_type": "code",
      "source": [
        "k=[1,2,3,4,5,10]\n",
        "k"
      ],
      "metadata": {
        "colab": {
          "base_uri": "https://localhost:8080/"
        },
        "id": "-5QX3JU7B50s",
        "outputId": "16119329-e0a8-454a-cf98-00633321b3de"
      },
      "execution_count": null,
      "outputs": [
        {
          "output_type": "execute_result",
          "data": {
            "text/plain": [
              "[1, 2, 3, 4, 5, 10]"
            ]
          },
          "metadata": {},
          "execution_count": 12
        }
      ]
    },
    {
      "cell_type": "code",
      "source": [
        "k_as_array = np.array(k)\n",
        "k_as_array"
      ],
      "metadata": {
        "colab": {
          "base_uri": "https://localhost:8080/"
        },
        "id": "2ekDd76sCNci",
        "outputId": "dc21e113-b5b2-41a8-fc18-bfc3b8657c95"
      },
      "execution_count": null,
      "outputs": [
        {
          "output_type": "execute_result",
          "data": {
            "text/plain": [
              "array([ 1,  2,  3,  4,  5, 10])"
            ]
          },
          "metadata": {},
          "execution_count": 13
        }
      ]
    },
    {
      "cell_type": "code",
      "source": [
        "k_as_array*2"
      ],
      "metadata": {
        "colab": {
          "base_uri": "https://localhost:8080/"
        },
        "id": "2Y8RqkC0CcrY",
        "outputId": "83ef665c-4eed-4a0e-8155-1a68e24e85ec"
      },
      "execution_count": null,
      "outputs": [
        {
          "output_type": "execute_result",
          "data": {
            "text/plain": [
              "array([ 2,  4,  6,  8, 10, 20])"
            ]
          },
          "metadata": {},
          "execution_count": 14
        }
      ]
    },
    {
      "cell_type": "code",
      "source": [
        "a= np.array([1,2,3])\n",
        "b=np.array([4,5,6])"
      ],
      "metadata": {
        "id": "6OSwOmI0Cmn-"
      },
      "execution_count": null,
      "outputs": []
    },
    {
      "cell_type": "code",
      "source": [
        "np.dot(a,b)"
      ],
      "metadata": {
        "colab": {
          "base_uri": "https://localhost:8080/"
        },
        "id": "IOR3vQWpGXaL",
        "outputId": "ad11ceac-0201-4627-8c07-315cec907b05"
      },
      "execution_count": null,
      "outputs": [
        {
          "output_type": "execute_result",
          "data": {
            "text/plain": [
              "32"
            ]
          },
          "metadata": {},
          "execution_count": 19
        }
      ]
    },
    {
      "cell_type": "code",
      "source": [
        "c=np.array([6,7,8])"
      ],
      "metadata": {
        "id": "ENrHwNl6GpBf"
      },
      "execution_count": null,
      "outputs": []
    },
    {
      "cell_type": "code",
      "source": [
        "r1=np.dot(a,b+c)\n",
        "r1"
      ],
      "metadata": {
        "colab": {
          "base_uri": "https://localhost:8080/"
        },
        "id": "IWvfVuMqG-2w",
        "outputId": "e663001e-f441-4e49-bbd7-5c804ac70ea8"
      },
      "execution_count": null,
      "outputs": [
        {
          "output_type": "execute_result",
          "data": {
            "text/plain": [
              "76"
            ]
          },
          "metadata": {},
          "execution_count": 23
        }
      ]
    },
    {
      "cell_type": "code",
      "source": [
        "r2=np.dot(a,b)+np.dot(a,c)\n",
        "r2"
      ],
      "metadata": {
        "colab": {
          "base_uri": "https://localhost:8080/"
        },
        "id": "sqoWhkeJHKiX",
        "outputId": "46bcab8e-d498-4c42-c38d-271f04e3b89d"
      },
      "execution_count": null,
      "outputs": [
        {
          "output_type": "execute_result",
          "data": {
            "text/plain": [
              "76"
            ]
          },
          "metadata": {},
          "execution_count": 26
        }
      ]
    },
    {
      "cell_type": "code",
      "source": [
        "import numpy as np\n",
        "from numpy import linalg as lng"
      ],
      "metadata": {
        "id": "dE8Vz7SzHcn6"
      },
      "execution_count": null,
      "outputs": []
    },
    {
      "cell_type": "code",
      "source": [
        "a=np.array([10,20,30,40,50])\n",
        "b=np.array([60,70,80,90,100])\n"
      ],
      "metadata": {
        "id": "1dwaFzcDIVss"
      },
      "execution_count": null,
      "outputs": []
    },
    {
      "cell_type": "code",
      "source": [
        "lng.norm(a)"
      ],
      "metadata": {
        "colab": {
          "base_uri": "https://localhost:8080/"
        },
        "id": "gW8IMNMQIwks",
        "outputId": "85672cb2-ca20-44c5-bb44-8ce406e9e129"
      },
      "execution_count": null,
      "outputs": [
        {
          "output_type": "execute_result",
          "data": {
            "text/plain": [
              "74.16198487095663"
            ]
          },
          "metadata": {},
          "execution_count": 31
        }
      ]
    },
    {
      "cell_type": "code",
      "source": [
        "lng.norm(b)"
      ],
      "metadata": {
        "colab": {
          "base_uri": "https://localhost:8080/"
        },
        "id": "66bv7DbtIz-P",
        "outputId": "50929a12-9b27-4826-c32f-353ccb3aedab"
      },
      "execution_count": null,
      "outputs": [
        {
          "output_type": "execute_result",
          "data": {
            "text/plain": [
              "181.6590212458495"
            ]
          },
          "metadata": {},
          "execution_count": 32
        }
      ]
    },
    {
      "cell_type": "code",
      "source": [
        "vector_projection =(np.dot(a,b)/np.dot(b,b))*b\n",
        "print(vector_projection)"
      ],
      "metadata": {
        "colab": {
          "base_uri": "https://localhost:8080/"
        },
        "id": "ZuLP_i5EI79-",
        "outputId": "1e5bacd8-971b-4602-be71-85f795c3190c"
      },
      "execution_count": null,
      "outputs": [
        {
          "output_type": "stream",
          "name": "stdout",
          "text": [
            "[23.63636364 27.57575758 31.51515152 35.45454545 39.39393939]\n"
          ]
        }
      ]
    },
    {
      "cell_type": "code",
      "source": [
        "import numpy as np\n",
        "a= np.array([[2,5],[6,8]])\n",
        "a"
      ],
      "metadata": {
        "id": "1pIhamzsJVpw",
        "colab": {
          "base_uri": "https://localhost:8080/"
        },
        "outputId": "88d57ae2-03b4-42a2-917b-c4fd4f0068e4"
      },
      "execution_count": null,
      "outputs": [
        {
          "output_type": "execute_result",
          "data": {
            "text/plain": [
              "array([[2, 5],\n",
              "       [6, 8]])"
            ]
          },
          "metadata": {},
          "execution_count": 4
        }
      ]
    },
    {
      "cell_type": "code",
      "source": [
        "ainv= np.linalg.inv(a)\n",
        "print(ainv)"
      ],
      "metadata": {
        "colab": {
          "base_uri": "https://localhost:8080/"
        },
        "id": "JcJchl2mFeFp",
        "outputId": "36e0b7e2-9b5f-466c-ab1f-c05fb715104b"
      },
      "execution_count": null,
      "outputs": [
        {
          "output_type": "stream",
          "name": "stdout",
          "text": [
            "[[-0.57142857  0.35714286]\n",
            " [ 0.42857143 -0.14285714]]\n"
          ]
        }
      ]
    },
    {
      "cell_type": "code",
      "source": [
        "x=np.array([1,3])\n",
        "x"
      ],
      "metadata": {
        "colab": {
          "base_uri": "https://localhost:8080/"
        },
        "id": "3OqKtx1iFuom",
        "outputId": "fd0eb763-3a77-4e2b-9596-a9b0ca23daab"
      },
      "execution_count": null,
      "outputs": [
        {
          "output_type": "execute_result",
          "data": {
            "text/plain": [
              "array([1, 3])"
            ]
          },
          "metadata": {},
          "execution_count": 6
        }
      ]
    },
    {
      "cell_type": "code",
      "source": [
        "dotproduct_a_ainv=np.dot(ainv,x)\n",
        "dotproduct_a_ainv"
      ],
      "metadata": {
        "colab": {
          "base_uri": "https://localhost:8080/"
        },
        "id": "96IXTsJxGU8T",
        "outputId": "d72e1500-6c49-4160-8fa0-f568370002f0"
      },
      "execution_count": null,
      "outputs": [
        {
          "output_type": "execute_result",
          "data": {
            "text/plain": [
              "array([-1.11022302e-15,  5.00000000e-01])"
            ]
          },
          "metadata": {},
          "execution_count": 17
        }
      ]
    },
    {
      "cell_type": "code",
      "source": [
        "np.dot(dotproduct_a_ainv,x)"
      ],
      "metadata": {
        "colab": {
          "base_uri": "https://localhost:8080/"
        },
        "id": "nvt2DloqG3WC",
        "outputId": "102717b4-0acf-4331-f168-5568adf0f3f6"
      },
      "execution_count": null,
      "outputs": [
        {
          "output_type": "execute_result",
          "data": {
            "text/plain": [
              "1.0000000000000002"
            ]
          },
          "metadata": {},
          "execution_count": 18
        }
      ]
    },
    {
      "cell_type": "code",
      "source": [
        "a=np.array([[1,2],[3,4]])\n",
        "a"
      ],
      "metadata": {
        "colab": {
          "base_uri": "https://localhost:8080/"
        },
        "id": "Wb8w9dHFHaMo",
        "outputId": "e63eff6e-ebe0-47d4-92cb-11752cce1d3b"
      },
      "execution_count": null,
      "outputs": [
        {
          "output_type": "execute_result",
          "data": {
            "text/plain": [
              "array([[1, 2],\n",
              "       [3, 4]])"
            ]
          },
          "metadata": {},
          "execution_count": 10
        }
      ]
    },
    {
      "cell_type": "code",
      "source": [
        "ainv=np.linalg.inv(a)\n",
        "ainv"
      ],
      "metadata": {
        "colab": {
          "base_uri": "https://localhost:8080/"
        },
        "id": "zGelp-KSJQxb",
        "outputId": "fb9b82ed-9f47-4daf-b40a-ce35d140b04e"
      },
      "execution_count": null,
      "outputs": [
        {
          "output_type": "execute_result",
          "data": {
            "text/plain": [
              "array([[-2. ,  1. ],\n",
              "       [ 1.5, -0.5]])"
            ]
          },
          "metadata": {},
          "execution_count": 12
        }
      ]
    },
    {
      "cell_type": "code",
      "source": [
        "b=np.array([5,11])\n",
        "b"
      ],
      "metadata": {
        "colab": {
          "base_uri": "https://localhost:8080/"
        },
        "id": "0kzc84uuJYzR",
        "outputId": "731df3f2-15fe-4190-fc8b-4b9ca918a858"
      },
      "execution_count": null,
      "outputs": [
        {
          "output_type": "execute_result",
          "data": {
            "text/plain": [
              "array([ 5, 11])"
            ]
          },
          "metadata": {},
          "execution_count": 13
        }
      ]
    },
    {
      "cell_type": "code",
      "source": [
        "x=np.dot(ainv,b)\n",
        "x"
      ],
      "metadata": {
        "colab": {
          "base_uri": "https://localhost:8080/"
        },
        "id": "GKqRzZG-JmwA",
        "outputId": "02f5d8ca-bbb2-4535-d718-e0e5aebb77c1"
      },
      "execution_count": null,
      "outputs": [
        {
          "output_type": "execute_result",
          "data": {
            "text/plain": [
              "array([1., 2.])"
            ]
          },
          "metadata": {},
          "execution_count": 14
        }
      ]
    },
    {
      "cell_type": "code",
      "source": [
        "y=np.dot(a,x)\n",
        "y"
      ],
      "metadata": {
        "colab": {
          "base_uri": "https://localhost:8080/"
        },
        "id": "fWOdhuofJvPn",
        "outputId": "a80a62ab-577f-49e3-d36c-b0df3e799153"
      },
      "execution_count": null,
      "outputs": [
        {
          "output_type": "execute_result",
          "data": {
            "text/plain": [
              "array([ 5., 11.])"
            ]
          },
          "metadata": {},
          "execution_count": 16
        }
      ]
    },
    {
      "cell_type": "code",
      "source": [
        "np.linalg.det(a)"
      ],
      "metadata": {
        "colab": {
          "base_uri": "https://localhost:8080/"
        },
        "id": "BQKKENj5J4iz",
        "outputId": "a0d9e9b1-c909-44c9-8ff0-0510b0c8bc1f"
      },
      "execution_count": null,
      "outputs": [
        {
          "output_type": "execute_result",
          "data": {
            "text/plain": [
              "-2.0000000000000004"
            ]
          },
          "metadata": {},
          "execution_count": 19
        }
      ]
    },
    {
      "cell_type": "code",
      "source": [
        "z=np.array([[3,1],[6,2]])\n",
        "z"
      ],
      "metadata": {
        "colab": {
          "base_uri": "https://localhost:8080/"
        },
        "id": "CEtmUEbYMstW",
        "outputId": "7488cf62-ef87-4a53-a3a9-0b052de48f8c"
      },
      "execution_count": null,
      "outputs": [
        {
          "output_type": "execute_result",
          "data": {
            "text/plain": [
              "array([[3, 1],\n",
              "       [6, 2]])"
            ]
          },
          "metadata": {},
          "execution_count": 21
        }
      ]
    },
    {
      "cell_type": "code",
      "source": [
        "np.linalg.det(z)"
      ],
      "metadata": {
        "colab": {
          "base_uri": "https://localhost:8080/"
        },
        "id": "qL8wZ-dAM__p",
        "outputId": "6f6b80e2-9cba-43e6-f80c-2bb5a2014fe3"
      },
      "execution_count": null,
      "outputs": [
        {
          "output_type": "execute_result",
          "data": {
            "text/plain": [
              "0.0"
            ]
          },
          "metadata": {},
          "execution_count": 22
        }
      ]
    },
    {
      "cell_type": "code",
      "source": [
        "np.linalg.inv(z)"
      ],
      "metadata": {
        "colab": {
          "base_uri": "https://localhost:8080/",
          "height": 322
        },
        "id": "h9AZo3ScNHQn",
        "outputId": "9ebc1580-5dc2-407e-e6b1-db3a9fc4fbff"
      },
      "execution_count": null,
      "outputs": [
        {
          "output_type": "error",
          "ename": "LinAlgError",
          "evalue": "ignored",
          "traceback": [
            "\u001b[0;31m---------------------------------------------------------------------------\u001b[0m",
            "\u001b[0;31mLinAlgError\u001b[0m                               Traceback (most recent call last)",
            "\u001b[0;32m<ipython-input-23-d063fd85e79d>\u001b[0m in \u001b[0;36m<cell line: 1>\u001b[0;34m()\u001b[0m\n\u001b[0;32m----> 1\u001b[0;31m \u001b[0mnp\u001b[0m\u001b[0;34m.\u001b[0m\u001b[0mlinalg\u001b[0m\u001b[0;34m.\u001b[0m\u001b[0minv\u001b[0m\u001b[0;34m(\u001b[0m\u001b[0mz\u001b[0m\u001b[0;34m)\u001b[0m\u001b[0;34m\u001b[0m\u001b[0;34m\u001b[0m\u001b[0m\n\u001b[0m",
            "\u001b[0;32m/usr/local/lib/python3.10/dist-packages/numpy/core/overrides.py\u001b[0m in \u001b[0;36minv\u001b[0;34m(*args, **kwargs)\u001b[0m\n",
            "\u001b[0;32m/usr/local/lib/python3.10/dist-packages/numpy/linalg/linalg.py\u001b[0m in \u001b[0;36minv\u001b[0;34m(a)\u001b[0m\n\u001b[1;32m    550\u001b[0m     \u001b[0msignature\u001b[0m \u001b[0;34m=\u001b[0m \u001b[0;34m'D->D'\u001b[0m \u001b[0;32mif\u001b[0m \u001b[0misComplexType\u001b[0m\u001b[0;34m(\u001b[0m\u001b[0mt\u001b[0m\u001b[0;34m)\u001b[0m \u001b[0;32melse\u001b[0m \u001b[0;34m'd->d'\u001b[0m\u001b[0;34m\u001b[0m\u001b[0;34m\u001b[0m\u001b[0m\n\u001b[1;32m    551\u001b[0m     \u001b[0mextobj\u001b[0m \u001b[0;34m=\u001b[0m \u001b[0mget_linalg_error_extobj\u001b[0m\u001b[0;34m(\u001b[0m\u001b[0m_raise_linalgerror_singular\u001b[0m\u001b[0;34m)\u001b[0m\u001b[0;34m\u001b[0m\u001b[0;34m\u001b[0m\u001b[0m\n\u001b[0;32m--> 552\u001b[0;31m     \u001b[0mainv\u001b[0m \u001b[0;34m=\u001b[0m \u001b[0m_umath_linalg\u001b[0m\u001b[0;34m.\u001b[0m\u001b[0minv\u001b[0m\u001b[0;34m(\u001b[0m\u001b[0ma\u001b[0m\u001b[0;34m,\u001b[0m \u001b[0msignature\u001b[0m\u001b[0;34m=\u001b[0m\u001b[0msignature\u001b[0m\u001b[0;34m,\u001b[0m \u001b[0mextobj\u001b[0m\u001b[0;34m=\u001b[0m\u001b[0mextobj\u001b[0m\u001b[0;34m)\u001b[0m\u001b[0;34m\u001b[0m\u001b[0;34m\u001b[0m\u001b[0m\n\u001b[0m\u001b[1;32m    553\u001b[0m     \u001b[0;32mreturn\u001b[0m \u001b[0mwrap\u001b[0m\u001b[0;34m(\u001b[0m\u001b[0mainv\u001b[0m\u001b[0;34m.\u001b[0m\u001b[0mastype\u001b[0m\u001b[0;34m(\u001b[0m\u001b[0mresult_t\u001b[0m\u001b[0;34m,\u001b[0m \u001b[0mcopy\u001b[0m\u001b[0;34m=\u001b[0m\u001b[0;32mFalse\u001b[0m\u001b[0;34m)\u001b[0m\u001b[0;34m)\u001b[0m\u001b[0;34m\u001b[0m\u001b[0;34m\u001b[0m\u001b[0m\n\u001b[1;32m    554\u001b[0m \u001b[0;34m\u001b[0m\u001b[0m\n",
            "\u001b[0;32m/usr/local/lib/python3.10/dist-packages/numpy/linalg/linalg.py\u001b[0m in \u001b[0;36m_raise_linalgerror_singular\u001b[0;34m(err, flag)\u001b[0m\n\u001b[1;32m     87\u001b[0m \u001b[0;34m\u001b[0m\u001b[0m\n\u001b[1;32m     88\u001b[0m \u001b[0;32mdef\u001b[0m \u001b[0m_raise_linalgerror_singular\u001b[0m\u001b[0;34m(\u001b[0m\u001b[0merr\u001b[0m\u001b[0;34m,\u001b[0m \u001b[0mflag\u001b[0m\u001b[0;34m)\u001b[0m\u001b[0;34m:\u001b[0m\u001b[0;34m\u001b[0m\u001b[0;34m\u001b[0m\u001b[0m\n\u001b[0;32m---> 89\u001b[0;31m     \u001b[0;32mraise\u001b[0m \u001b[0mLinAlgError\u001b[0m\u001b[0;34m(\u001b[0m\u001b[0;34m\"Singular matrix\"\u001b[0m\u001b[0;34m)\u001b[0m\u001b[0;34m\u001b[0m\u001b[0;34m\u001b[0m\u001b[0m\n\u001b[0m\u001b[1;32m     90\u001b[0m \u001b[0;34m\u001b[0m\u001b[0m\n\u001b[1;32m     91\u001b[0m \u001b[0;32mdef\u001b[0m \u001b[0m_raise_linalgerror_nonposdef\u001b[0m\u001b[0;34m(\u001b[0m\u001b[0merr\u001b[0m\u001b[0;34m,\u001b[0m \u001b[0mflag\u001b[0m\u001b[0;34m)\u001b[0m\u001b[0;34m:\u001b[0m\u001b[0;34m\u001b[0m\u001b[0;34m\u001b[0m\u001b[0m\n",
            "\u001b[0;31mLinAlgError\u001b[0m: Singular matrix"
          ]
        }
      ]
    },
    {
      "cell_type": "code",
      "source": [
        "##L2_Norm - ridge regression##\n",
        "import numpy as np\n",
        "x=np.array([2,3,4,5])\n",
        "x"
      ],
      "metadata": {
        "id": "CJuuAlY0NgsU",
        "colab": {
          "base_uri": "https://localhost:8080/"
        },
        "outputId": "f50e05ef-31be-4dc2-9eb2-00287dd92b33"
      },
      "execution_count": null,
      "outputs": [
        {
          "output_type": "execute_result",
          "data": {
            "text/plain": [
              "array([2, 3, 4, 5])"
            ]
          },
          "metadata": {},
          "execution_count": 4
        }
      ]
    },
    {
      "cell_type": "code",
      "source": [
        "from numpy.linalg import norm\n",
        "l2norm=norm(x)\n",
        "l2norm"
      ],
      "metadata": {
        "colab": {
          "base_uri": "https://localhost:8080/"
        },
        "id": "CpOz3rbBW3Gp",
        "outputId": "8fe2155f-7733-467e-8f3f-6cf56f783447"
      },
      "execution_count": null,
      "outputs": [
        {
          "output_type": "execute_result",
          "data": {
            "text/plain": [
              "7.3484692283495345"
            ]
          },
          "metadata": {},
          "execution_count": 8
        }
      ]
    },
    {
      "cell_type": "code",
      "source": [
        "sqrt_l2=np.sqrt((4+9+16+25))\n",
        "sqrt_l2"
      ],
      "metadata": {
        "colab": {
          "base_uri": "https://localhost:8080/"
        },
        "id": "dv1WokcXXQc_",
        "outputId": "d55e26c0-4f72-4558-9483-5ef42064ed08"
      },
      "execution_count": null,
      "outputs": [
        {
          "output_type": "execute_result",
          "data": {
            "text/plain": [
              "7.3484692283495345"
            ]
          },
          "metadata": {},
          "execution_count": 12
        }
      ]
    },
    {
      "cell_type": "code",
      "source": [
        "#l1-norm ## modulus sum of its attribute\n",
        "y=np.array([-1,2,4,-2])\n",
        "l1_norm=norm(y,ord=1)\n",
        "l1_norm"
      ],
      "metadata": {
        "colab": {
          "base_uri": "https://localhost:8080/"
        },
        "id": "B7NeyZPKX-iv",
        "outputId": "53effb5d-b514-4ae3-f2f9-8f2818163f7d"
      },
      "execution_count": null,
      "outputs": [
        {
          "output_type": "execute_result",
          "data": {
            "text/plain": [
              "9.0"
            ]
          },
          "metadata": {},
          "execution_count": 15
        }
      ]
    },
    {
      "cell_type": "code",
      "source": [
        "z=np.array([1,2,-4,-5])\n",
        "#p=1\n",
        "p1=norm(z,1)\n",
        "p1"
      ],
      "metadata": {
        "colab": {
          "base_uri": "https://localhost:8080/"
        },
        "id": "vPlV1Q7HZDwb",
        "outputId": "b43321b5-355c-4346-939c-3d90735f6341"
      },
      "execution_count": null,
      "outputs": [
        {
          "output_type": "execute_result",
          "data": {
            "text/plain": [
              "12.0"
            ]
          },
          "metadata": {},
          "execution_count": 17
        }
      ]
    },
    {
      "cell_type": "code",
      "source": [
        "p2=norm(z,2)\n",
        "p2"
      ],
      "metadata": {
        "colab": {
          "base_uri": "https://localhost:8080/"
        },
        "id": "9eH168kFZrNN",
        "outputId": "3d3b4fe1-e3a1-4670-a555-545290246e2e"
      },
      "execution_count": null,
      "outputs": [
        {
          "output_type": "execute_result",
          "data": {
            "text/plain": [
              "6.782329983125268"
            ]
          },
          "metadata": {},
          "execution_count": 19
        }
      ]
    },
    {
      "cell_type": "code",
      "source": [
        "p3=norm(z,3)\n",
        "p3"
      ],
      "metadata": {
        "colab": {
          "base_uri": "https://localhost:8080/"
        },
        "id": "jWNZE8gBZ3Ln",
        "outputId": "98b9abf2-55b6-4f20-fedc-c9f4499f1407"
      },
      "execution_count": null,
      "outputs": [
        {
          "output_type": "execute_result",
          "data": {
            "text/plain": [
              "5.828476683251456"
            ]
          },
          "metadata": {},
          "execution_count": 21
        }
      ]
    },
    {
      "cell_type": "code",
      "source": [
        "p4=norm(z,4)\n",
        "p4"
      ],
      "metadata": {
        "colab": {
          "base_uri": "https://localhost:8080/"
        },
        "id": "3owZFLwjZ8DG",
        "outputId": "cb093149-17a2-4b5c-9baf-862d90cfc352"
      },
      "execution_count": null,
      "outputs": [
        {
          "output_type": "execute_result",
          "data": {
            "text/plain": [
              "5.474180132909712"
            ]
          },
          "metadata": {},
          "execution_count": 22
        }
      ]
    },
    {
      "cell_type": "code",
      "source": [
        "#Vector Max Norm##\n",
        "x=np.random.randint(0,1000,10)\n",
        "x"
      ],
      "metadata": {
        "colab": {
          "base_uri": "https://localhost:8080/"
        },
        "id": "QMW_IToHaBoB",
        "outputId": "5f52f59b-0835-498f-82e0-1374c22a4c8f"
      },
      "execution_count": null,
      "outputs": [
        {
          "output_type": "execute_result",
          "data": {
            "text/plain": [
              "array([520, 104, 999, 886, 297, 310, 754, 685, 569,  45])"
            ]
          },
          "metadata": {},
          "execution_count": 24
        }
      ]
    },
    {
      "cell_type": "code",
      "source": [
        "#p = infinity\n",
        "from math import inf\n",
        "max_norm =norm(x,ord=inf)\n",
        "max_norm"
      ],
      "metadata": {
        "colab": {
          "base_uri": "https://localhost:8080/"
        },
        "id": "FZf-K0B2aPx3",
        "outputId": "7ba0cd5f-600e-4098-87ba-b32fabb840a0"
      },
      "execution_count": null,
      "outputs": [
        {
          "output_type": "execute_result",
          "data": {
            "text/plain": [
              "999.0"
            ]
          },
          "metadata": {},
          "execution_count": 26
        }
      ]
    },
    {
      "cell_type": "code",
      "source": [
        "import numpy as np\n",
        "x=np.array([[1,2,3],[4,5,6]])\n",
        "x"
      ],
      "metadata": {
        "id": "L9CfopMGat_i",
        "colab": {
          "base_uri": "https://localhost:8080/"
        },
        "outputId": "c82de693-5033-4933-9ec7-8ecfa384f4eb"
      },
      "execution_count": null,
      "outputs": [
        {
          "output_type": "execute_result",
          "data": {
            "text/plain": [
              "array([[1, 2, 3],\n",
              "       [4, 5, 6]])"
            ]
          },
          "metadata": {},
          "execution_count": 3
        }
      ]
    },
    {
      "cell_type": "code",
      "source": [
        "y=np.random.randint(0,10,(2,3))\n",
        "y"
      ],
      "metadata": {
        "colab": {
          "base_uri": "https://localhost:8080/"
        },
        "id": "oy7gUIwiBcBE",
        "outputId": "c94f402c-0c90-42b8-8946-28a48b49c072"
      },
      "execution_count": null,
      "outputs": [
        {
          "output_type": "execute_result",
          "data": {
            "text/plain": [
              "array([[8, 4, 5],\n",
              "       [0, 3, 8]])"
            ]
          },
          "metadata": {},
          "execution_count": 4
        }
      ]
    },
    {
      "cell_type": "code",
      "source": [
        "x+y"
      ],
      "metadata": {
        "colab": {
          "base_uri": "https://localhost:8080/"
        },
        "id": "Ri0m-V8xB253",
        "outputId": "49cfb108-11f0-4d5f-c4f8-e4fedfdef891"
      },
      "execution_count": null,
      "outputs": [
        {
          "output_type": "execute_result",
          "data": {
            "text/plain": [
              "array([[ 9,  6,  8],\n",
              "       [ 4,  8, 14]])"
            ]
          },
          "metadata": {},
          "execution_count": 5
        }
      ]
    },
    {
      "cell_type": "code",
      "source": [
        "np.random.seed(0)\n",
        "a=np.random.randint(1,100,(5,4))\n",
        "b=np.random.randint(1,100,(5,4))\n",
        "print(a)\n",
        "print(b)"
      ],
      "metadata": {
        "colab": {
          "base_uri": "https://localhost:8080/"
        },
        "id": "y77QKyZZB_hn",
        "outputId": "b2dc94f2-3016-43f5-880f-0eadc51f9071"
      },
      "execution_count": null,
      "outputs": [
        {
          "output_type": "stream",
          "name": "stdout",
          "text": [
            "[[45 48 65 68]\n",
            " [68 10 84 22]\n",
            " [37 88 71 89]\n",
            " [89 13 59 66]\n",
            " [40 88 47 89]]\n",
            "[[82 38 26 78]\n",
            " [73 10 21 81]\n",
            " [70 80 48 65]\n",
            " [83 89 50 30]\n",
            " [20 20 15 40]]\n"
          ]
        }
      ]
    },
    {
      "cell_type": "code",
      "source": [
        "a+b"
      ],
      "metadata": {
        "colab": {
          "base_uri": "https://localhost:8080/"
        },
        "id": "I197a9o8E0TO",
        "outputId": "2e867207-607b-493c-a3f8-befe6ddbb6de"
      },
      "execution_count": null,
      "outputs": [
        {
          "output_type": "execute_result",
          "data": {
            "text/plain": [
              "array([[127,  86,  91, 146],\n",
              "       [141,  20, 105, 103],\n",
              "       [107, 168, 119, 154],\n",
              "       [172, 102, 109,  96],\n",
              "       [ 60, 108,  62, 129]])"
            ]
          },
          "metadata": {},
          "execution_count": 11
        }
      ]
    },
    {
      "cell_type": "code",
      "source": [
        "c=np.arange(1,3)\n",
        "c"
      ],
      "metadata": {
        "colab": {
          "base_uri": "https://localhost:8080/"
        },
        "id": "D5ygd332FdY2",
        "outputId": "bb0190a5-beee-4b8e-a41c-747a76f419b6"
      },
      "execution_count": null,
      "outputs": [
        {
          "output_type": "execute_result",
          "data": {
            "text/plain": [
              "array([1, 2])"
            ]
          },
          "metadata": {},
          "execution_count": 12
        }
      ]
    },
    {
      "cell_type": "code",
      "source": [
        "a-b"
      ],
      "metadata": {
        "colab": {
          "base_uri": "https://localhost:8080/"
        },
        "id": "t2BGpQAnFty6",
        "outputId": "6d02b41b-cf9c-489d-cd26-6cc58247e0cf"
      },
      "execution_count": null,
      "outputs": [
        {
          "output_type": "execute_result",
          "data": {
            "text/plain": [
              "array([[-37,  10,  39, -10],\n",
              "       [ -5,   0,  63, -59],\n",
              "       [-33,   8,  23,  24],\n",
              "       [  6, -76,   9,  36],\n",
              "       [ 20,  68,  32,  49]])"
            ]
          },
          "metadata": {},
          "execution_count": 13
        }
      ]
    },
    {
      "cell_type": "code",
      "source": [
        "a/b"
      ],
      "metadata": {
        "colab": {
          "base_uri": "https://localhost:8080/"
        },
        "id": "76MyN_nZGAb2",
        "outputId": "da443fa7-8da3-4150-c8e9-a393083d79f4"
      },
      "execution_count": null,
      "outputs": [
        {
          "output_type": "execute_result",
          "data": {
            "text/plain": [
              "array([[0.54878049, 1.26315789, 2.5       , 0.87179487],\n",
              "       [0.93150685, 1.        , 4.        , 0.27160494],\n",
              "       [0.52857143, 1.1       , 1.47916667, 1.36923077],\n",
              "       [1.07228916, 0.14606742, 1.18      , 2.2       ],\n",
              "       [2.        , 4.4       , 3.13333333, 2.225     ]])"
            ]
          },
          "metadata": {},
          "execution_count": 14
        }
      ]
    },
    {
      "cell_type": "code",
      "source": [
        "#hadamard product#\n",
        "a=np.random.randint(1,10,(2,2))\n",
        "b=np.random.randint(1,10,(2,2))\n"
      ],
      "metadata": {
        "id": "dJONgxqIGEoB"
      },
      "execution_count": null,
      "outputs": []
    },
    {
      "cell_type": "code",
      "source": [
        "a*b"
      ],
      "metadata": {
        "colab": {
          "base_uri": "https://localhost:8080/"
        },
        "id": "F4gMSPr2GgIG",
        "outputId": "c6e649d4-e05e-4891-ebf3-f63c1082796c"
      },
      "execution_count": null,
      "outputs": [
        {
          "output_type": "execute_result",
          "data": {
            "text/plain": [
              "array([[ 8,  8],\n",
              "       [ 3, 40]])"
            ]
          },
          "metadata": {},
          "execution_count": 18
        }
      ]
    },
    {
      "cell_type": "code",
      "source": [
        "#matrix multiplication###\n",
        "np.matmul(a,b)\n"
      ],
      "metadata": {
        "colab": {
          "base_uri": "https://localhost:8080/"
        },
        "id": "5h6_9JKRGr60",
        "outputId": "05975ee8-a2d2-4ff4-b1ac-0d19e80df7b4"
      },
      "execution_count": null,
      "outputs": [
        {
          "output_type": "execute_result",
          "data": {
            "text/plain": [
              "array([[14, 20],\n",
              "       [23, 44]])"
            ]
          },
          "metadata": {},
          "execution_count": 19
        }
      ]
    },
    {
      "cell_type": "code",
      "source": [
        "a@b"
      ],
      "metadata": {
        "colab": {
          "base_uri": "https://localhost:8080/"
        },
        "id": "-7z88M2eHqp6",
        "outputId": "1026fefe-00b3-46aa-aeca-8ce6885faab9"
      },
      "execution_count": null,
      "outputs": [
        {
          "output_type": "execute_result",
          "data": {
            "text/plain": [
              "array([[14, 20],\n",
              "       [23, 44]])"
            ]
          },
          "metadata": {},
          "execution_count": 20
        }
      ]
    },
    {
      "cell_type": "code",
      "source": [
        "a.dot(b)"
      ],
      "metadata": {
        "colab": {
          "base_uri": "https://localhost:8080/"
        },
        "id": "42YBP-ViHtfF",
        "outputId": "758951c8-518b-4b2c-a732-6254a6414d4a"
      },
      "execution_count": null,
      "outputs": [
        {
          "output_type": "execute_result",
          "data": {
            "text/plain": [
              "array([[14, 20],\n",
              "       [23, 44]])"
            ]
          },
          "metadata": {},
          "execution_count": 21
        }
      ]
    },
    {
      "cell_type": "code",
      "source": [
        "b.dot(a)"
      ],
      "metadata": {
        "colab": {
          "base_uri": "https://localhost:8080/"
        },
        "id": "Hd9sEWw-G8US",
        "outputId": "cc588d99-83d7-46a2-d440-07f2e4b28552"
      },
      "execution_count": null,
      "outputs": [
        {
          "output_type": "execute_result",
          "data": {
            "text/plain": [
              "array([[12, 36],\n",
              "       [11, 46]])"
            ]
          },
          "metadata": {},
          "execution_count": 22
        }
      ]
    },
    {
      "cell_type": "code",
      "source": [
        "##matrix Vector Multiplication#\n",
        "a=np.random.randint(10,100,(4,4))\n",
        "a"
      ],
      "metadata": {
        "colab": {
          "base_uri": "https://localhost:8080/"
        },
        "id": "c1DbqyrOHzcQ",
        "outputId": "23c63ff2-6da4-4929-a6eb-69f7fd8e6ef6"
      },
      "execution_count": null,
      "outputs": [
        {
          "output_type": "execute_result",
          "data": {
            "text/plain": [
              "array([[13, 26, 76, 96],\n",
              "       [17, 99, 25, 50],\n",
              "       [68, 12, 52, 55],\n",
              "       [94, 41, 82, 26]])"
            ]
          },
          "metadata": {},
          "execution_count": 8
        }
      ]
    },
    {
      "cell_type": "code",
      "source": [
        "import numpy as np\n",
        "b=np.arange(2,6)\n",
        "b"
      ],
      "metadata": {
        "id": "4Eo9HfsPJU1_",
        "colab": {
          "base_uri": "https://localhost:8080/"
        },
        "outputId": "4c79b31f-142e-4d57-e81c-8a552c85fed4"
      },
      "execution_count": null,
      "outputs": [
        {
          "output_type": "execute_result",
          "data": {
            "text/plain": [
              "array([2, 3, 4, 5])"
            ]
          },
          "metadata": {},
          "execution_count": 5
        }
      ]
    },
    {
      "cell_type": "code",
      "source": [
        "op_ab= a.dot(b)\n",
        "op_ab"
      ],
      "metadata": {
        "colab": {
          "base_uri": "https://localhost:8080/"
        },
        "id": "LGguBTCIJmSu",
        "outputId": "d839405f-986c-4575-e3df-f5111bb9fb57"
      },
      "execution_count": null,
      "outputs": [
        {
          "output_type": "execute_result",
          "data": {
            "text/plain": [
              "array([298, 581, 637, 678])"
            ]
          },
          "metadata": {},
          "execution_count": 28
        }
      ]
    },
    {
      "cell_type": "code",
      "source": [
        "\n",
        "# Transpose ##\n",
        "c=b.T\n",
        "c"
      ],
      "metadata": {
        "id": "DAXF_VVqJzob",
        "colab": {
          "base_uri": "https://localhost:8080/"
        },
        "outputId": "3c8a0582-f02a-4e93-cad3-c56d89b8b7b1"
      },
      "execution_count": null,
      "outputs": [
        {
          "output_type": "execute_result",
          "data": {
            "text/plain": [
              "array([2, 3, 4, 5])"
            ]
          },
          "metadata": {},
          "execution_count": 6
        }
      ]
    },
    {
      "cell_type": "code",
      "source": [
        "c=a.T\n",
        "c"
      ],
      "metadata": {
        "colab": {
          "base_uri": "https://localhost:8080/"
        },
        "id": "M38E9_5MIPfV",
        "outputId": "83959a42-5bc0-443a-a69a-b3a0e6132588"
      },
      "execution_count": null,
      "outputs": [
        {
          "output_type": "execute_result",
          "data": {
            "text/plain": [
              "array([[13, 17, 68, 94],\n",
              "       [26, 99, 12, 41],\n",
              "       [76, 25, 52, 82],\n",
              "       [96, 50, 55, 26]])"
            ]
          },
          "metadata": {},
          "execution_count": 10
        }
      ]
    },
    {
      "cell_type": "code",
      "source": [
        "##Determinant##\n",
        "x=np.random.randint(10,100,(4,4))\n",
        "x"
      ],
      "metadata": {
        "colab": {
          "base_uri": "https://localhost:8080/"
        },
        "id": "ISsYCPUfInWb",
        "outputId": "36f46222-bcd7-4a64-d788-9aa71f3ed5b9"
      },
      "execution_count": null,
      "outputs": [
        {
          "output_type": "execute_result",
          "data": {
            "text/plain": [
              "array([[30, 45, 70, 10],\n",
              "       [18, 45, 53, 10],\n",
              "       [63, 50, 57, 95],\n",
              "       [17, 89, 41, 59]])"
            ]
          },
          "metadata": {},
          "execution_count": 11
        }
      ]
    },
    {
      "cell_type": "code",
      "source": [
        "from numpy.linalg import det\n",
        "det(x)"
      ],
      "metadata": {
        "colab": {
          "base_uri": "https://localhost:8080/"
        },
        "id": "Z4JPgp49JIog",
        "outputId": "ebce0a69-6799-4f39-a31e-4f792253c56f"
      },
      "execution_count": null,
      "outputs": [
        {
          "output_type": "execute_result",
          "data": {
            "text/plain": [
              "367269.99999999837"
            ]
          },
          "metadata": {},
          "execution_count": 12
        }
      ]
    },
    {
      "cell_type": "code",
      "source": [
        "y=np.array([1,2,3])\n",
        "np.linalg.matrix_rank(a)"
      ],
      "metadata": {
        "colab": {
          "base_uri": "https://localhost:8080/"
        },
        "id": "15eHbMT5JQ2N",
        "outputId": "640fd677-1a75-4372-f910-8ba0d6743ecc"
      },
      "execution_count": null,
      "outputs": [
        {
          "output_type": "execute_result",
          "data": {
            "text/plain": [
              "4"
            ]
          },
          "metadata": {},
          "execution_count": 15
        }
      ]
    },
    {
      "cell_type": "code",
      "source": [
        "import numpy as np\n",
        "import numpy.linalg as la\n",
        "# lets Define function for 4 basis vectors\n",
        "def gsprocess(x):\n",
        "  y=np.array(x,dtype=np.float_) # copying as we will be altering the input x ##\n",
        "  # for zeroth column, normalizing by dividing by its modulus i.e norm#\n",
        "  y[:,0]=y[:,0]/la.norm(y[:,0])\n",
        "  #for 1st column, subtract the overlap with zeroth column#\n",
        "  y[:,1]=y[:,1]/la.norm(y[:,1])\n",
        "  #dividing by norm for the remaining vlue of 1st column#\n",
        "  y[:,1]=y[:,1]/la.norm(y[:,1])\n",
        "  # Repeating the same steps for other two column#\n",
        "  y[:, 2] = y[:, 2] - np.dot(y[:, 2], y[:, 0]) * y[:, 0] - np.dot(y[:, 2], y[:, 1]) * y[:, 1]\n",
        "  y[:, 2] = y[:, 2] / la.norm(y[:, 2])\n",
        "  y[:, 3] = y[:, 3] - np.dot(y[:, 3], y[:, 0]) * y[:, 0] - np.dot(y[:, 3], y[:, 1]) * y[:, 1] - np.dot(y[:, 3], y[:, 2]) * y[:, 2]\n",
        "  y[:, 3] = y[:, 3] / la.norm(y[:, 3])\n",
        "  return y\n",
        "  # Function to output the dimension\n",
        "  def dimensions(x):\n",
        "    return np.sum(la.norm(gsprocess(x),axis = 0))\n"
      ],
      "metadata": {
        "id": "QfwSmj5QJhtM"
      },
      "execution_count": null,
      "outputs": []
    },
    {
      "cell_type": "code",
      "source": [
        "# test the code\n",
        "V=np.array([[5,0,3,4],[2,1,9,2],\n",
        "             [-5,2,8,3],[2,6,2,1]],dtype=np.float_)\n",
        "print(V)\n",
        "vgs=gsprocess(V)\n",
        "vgs"
      ],
      "metadata": {
        "colab": {
          "base_uri": "https://localhost:8080/"
        },
        "id": "Z0E4MKT2rbIR",
        "outputId": "e11fd768-6a89-469b-8433-97008ff4688d"
      },
      "execution_count": null,
      "outputs": [
        {
          "output_type": "stream",
          "name": "stdout",
          "text": [
            "[[ 5.  0.  3.  4.]\n",
            " [ 2.  1.  9.  2.]\n",
            " [-5.  2.  8.  3.]\n",
            " [ 2.  6.  2.  1.]]\n"
          ]
        },
        {
          "output_type": "execute_result",
          "data": {
            "text/plain": [
              "array([[ 0.65653216,  0.        ,  0.29253706,  0.68573714],\n",
              "       [ 0.26261287,  0.15617376,  0.73623147, -0.58698702],\n",
              "       [-0.65653216,  0.31234752,  0.53293917,  0.42033072],\n",
              "       [ 0.26261287,  0.93704257, -0.297256  , -0.09237374]])"
            ]
          },
          "metadata": {},
          "execution_count": 21
        }
      ]
    },
    {
      "cell_type": "code",
      "source": [
        "verySmallno=1e-14\n",
        "def gsprocess2(x):\n",
        "  y=np.array(x,dtype=np.float_)\n",
        "  y[:,0]=y[:,0]/la.norm(y[:,0])\n",
        "  for i in range (1,y.shape[1]): #y.shape[1]-return number of column\n",
        "      for j in range(0,1):\n",
        "          y[:,i]=y[:, i] = y[:, i] - np.dot(y[:, i], y[:, j]) * y[:, j]\n",
        "      if la.norm(y[:,i]) > verySmallno:\n",
        "          y[:,i]=y[:,i]/la.norm(y[:,i])\n",
        "\n",
        "      else:\n",
        "          y[:,i]=np.zeros_like(y[:,i])\n",
        "  return y\n",
        "  def dimensions2(x):\n",
        "    return np.sum(la.norm(gsprocess2(x),axos = 0))"
      ],
      "metadata": {
        "id": "OzqNiMyav2Y8"
      },
      "execution_count": null,
      "outputs": []
    },
    {
      "cell_type": "code",
      "source": [
        "ags=gsprocess2(V)\n",
        "ags\n"
      ],
      "metadata": {
        "colab": {
          "base_uri": "https://localhost:8080/"
        },
        "id": "530vvbsa3bXS",
        "outputId": "6ea7b4bc-39a7-4747-dd58-7b1683875807"
      },
      "execution_count": null,
      "outputs": [
        {
          "output_type": "execute_result",
          "data": {
            "text/plain": [
              "array([[ 0.65653216, -0.05403511,  0.25936934,  0.57761152],\n",
              "       [ 0.26261287,  0.13508778,  0.72458736,  0.30675414],\n",
              "       [-0.65653216,  0.36743876,  0.61617372,  0.7473053 ],\n",
              "       [ 0.26261287,  0.9185969 ,  0.16742359,  0.11748031]])"
            ]
          },
          "metadata": {},
          "execution_count": 31
        }
      ]
    },
    {
      "cell_type": "code",
      "source": [
        "# test for non square matrix\n",
        "b=np.array([[3,2,3],[2,5,-1],\n",
        "       [2,4,8],[12,2,1]],dtype=np.float_)\n",
        "b"
      ],
      "metadata": {
        "colab": {
          "base_uri": "https://localhost:8080/"
        },
        "id": "WxdkFC-I3msL",
        "outputId": "d29da866-5fb8-496a-cfb4-239c70211373"
      },
      "execution_count": null,
      "outputs": [
        {
          "output_type": "execute_result",
          "data": {
            "text/plain": [
              "array([[ 3.,  2.,  3.],\n",
              "       [ 2.,  5., -1.],\n",
              "       [ 2.,  4.,  8.],\n",
              "       [12.,  2.,  1.]])"
            ]
          },
          "metadata": {},
          "execution_count": 22
        }
      ]
    },
    {
      "cell_type": "code",
      "source": [
        "bgs=gsprocess2(b)\n",
        "bgs"
      ],
      "metadata": {
        "colab": {
          "base_uri": "https://localhost:8080/"
        },
        "id": "ebQye_tO6WUq",
        "outputId": "71b53852-9b90-4365-fb5c-36ee71e447e2"
      },
      "execution_count": null,
      "outputs": [
        {
          "output_type": "execute_result",
          "data": {
            "text/plain": [
              "array([[ 0.23643312,  0.18771349,  0.28599866],\n",
              "       [ 0.15762208,  0.74769023, -0.17477696],\n",
              "       [ 0.15762208,  0.57790444,  0.92155123],\n",
              "       [ 0.94573249, -0.26786082, -0.19596204]])"
            ]
          },
          "metadata": {},
          "execution_count": 28
        }
      ]
    },
    {
      "cell_type": "code",
      "source": [
        "import numpy as np\n",
        "import matplotlib.pyplot as plt\n",
        "import seaborn as sns\n",
        "#define the plot style\n",
        "sns.set()\n",
        "%pylab inline\n",
        "pylab.rcParams['figure.figsize']=(8,8) #figure size\n",
        "np.set_printoptions(suppress=True)"
      ],
      "metadata": {
        "id": "DUEwd4fK6jN4",
        "colab": {
          "base_uri": "https://localhost:8080/"
        },
        "outputId": "2aae6bdc-d53b-4276-818e-f28edd2f6f69"
      },
      "execution_count": 3,
      "outputs": [
        {
          "output_type": "stream",
          "name": "stdout",
          "text": [
            "Populating the interactive namespace from numpy and matplotlib\n"
          ]
        }
      ]
    },
    {
      "cell_type": "code",
      "source": [
        "#function to plot vectors\n",
        "def plotvec(vec,col,alpha=1):\n",
        "  plt.axvline(x=0,color='#A9A9A9',zorder=0)\n",
        "  plt.axhline(y=0,color='#A9A9A9',zorder=0)\n",
        "  for i in range(len(vec)):\n",
        "    if (isinstance(alpha,list)):\n",
        "      alpha_i= alpha[i]\n",
        "    else:\n",
        "      alpha_i= alpha\n",
        "      x=np.concatenate([[0,0],vec[i]])\n",
        "      plt.quiver([x[0]],\n",
        "                 [x[1]],\n",
        "                 [x[2]],\n",
        "                 [x[3]],\n",
        "                 angles='xy',scale_units='xy',scale=1,color=col[i],\n",
        "                 alpha=alpha_i)"
      ],
      "metadata": {
        "id": "G_sVXtV6BWbR"
      },
      "execution_count": 5,
      "outputs": []
    },
    {
      "cell_type": "code",
      "source": [
        "green='#006400'\n",
        "red='#FF0000'\n",
        "v=[1,2]\n",
        "plotvec([v],col=[red],alpha=1)\n",
        "plt.xlim(-4,4)\n",
        "plt.ylim(-4,4)\n",
        "plt.show()"
      ],
      "metadata": {
        "colab": {
          "base_uri": "https://localhost:8080/",
          "height": 655
        },
        "id": "d2zNKySgEEG1",
        "outputId": "e8b7ec3d-e004-40ab-fba9-3ff29a963814"
      },
      "execution_count": 7,
      "outputs": [
        {
          "output_type": "execute_result",
          "data": {
            "text/plain": [
              "<function matplotlib.pyplot.show(close=None, block=None)>"
            ]
          },
          "metadata": {},
          "execution_count": 7
        },
        {
          "output_type": "display_data",
          "data": {
            "text/plain": [
              "<Figure size 800x800 with 1 Axes>"
            ],
            "image/png": "[encoded data removed]"
          },
          "metadata": {}
        }
      ]
    },
    {
      "cell_type": "code",
      "source": [
        "#scaling\n",
        "s=np.array([[2,0],[0,2]])\n",
        "b=s@v\n",
        "plotvec([v],col=[red],alpha=1)\n",
        "plotvec([b],col=[green],alpha=1)\n",
        "plt.xlim(-4,4)\n",
        "plt.ylim(-4,4)\n",
        "plt.show()"
      ],
      "metadata": {
        "colab": {
          "base_uri": "https://localhost:8080/",
          "height": 637
        },
        "id": "7SW3gTWqEvh9",
        "outputId": "4c601294-0b60-427d-b249-07938457e155"
      },
      "execution_count": 8,
      "outputs": [
        {
          "output_type": "display_data",
          "data": {
            "text/plain": [
              "<Figure size 800x800 with 1 Axes>"
            ],
            "image/png": "[encoded data removed]"
          },
          "metadata": {}
        }
      ]
    },
    {
      "cell_type": "code",
      "source": [
        "#Rotation by 90degrees anti clockwise\n",
        "r=np.array([[0,-1],[1,0]])\n",
        "b=r@v\n",
        "plotvec([v],col=[red],alpha=1)\n",
        "plotvec([b],col=[green],alpha=1)\n",
        "plt.xlim(-4,4)\n",
        "plt.ylim(-4,4)\n",
        "plt.show()\n"
      ],
      "metadata": {
        "colab": {
          "base_uri": "https://localhost:8080/",
          "height": 637
        },
        "id": "arkjpZBPFjQP",
        "outputId": "6a1682bf-b3b4-4dc8-d135-c073bb447bce"
      },
      "execution_count": 11,
      "outputs": [
        {
          "output_type": "display_data",
          "data": {
            "text/plain": [
              "<Figure size 800x800 with 1 Axes>"
            ],
            "image/png": "[encoded data removed]"
          },
          "metadata": {}
        }
      ]
    },
    {
      "cell_type": "code",
      "source": [
        "#combination of rotation & Scaling\n",
        "A=np.array([[2,1],[-1,1]])\n",
        "b=A@v\n",
        "plotvec([v],col=[red],alpha=1)\n",
        "plotvec([b],col=[green],alpha=1)\n",
        "plt.xlim(-4,4)\n",
        "plt.ylim(-4,4)\n",
        "plt.show()"
      ],
      "metadata": {
        "colab": {
          "base_uri": "https://localhost:8080/",
          "height": 637
        },
        "id": "2fxWzow0F87p",
        "outputId": "d5f43b6c-e667-469b-816c-5cb496589238"
      },
      "execution_count": 12,
      "outputs": [
        {
          "output_type": "display_data",
          "data": {
            "text/plain": [
              "<Figure size 800x800 with 1 Axes>"
            ],
            "image/png": "[encoded data removed]"
          },
          "metadata": {}
        }
      ]
    },
    {
      "cell_type": "code",
      "source": [
        "#plotting a unit circle\n",
        "x=np.linspace(-1,1,1000000)\n",
        "y=np.sqrt(1-(x**2))\n",
        "plt.plot(x,y,sns.color_palette().as_hex()[1])\n",
        "plt.plot(-x,-y,sns.color_palette().as_hex()[1])\n",
        "plt.xlim(-2,2)\n",
        "plt.ylim(-2,2)\n",
        "plt.show()"
      ],
      "metadata": {
        "colab": {
          "base_uri": "https://localhost:8080/",
          "height": 618
        },
        "id": "9KNw0MFVG3oY",
        "outputId": "9ee92f31-2df9-45ce-edc0-09b9ac872506"
      },
      "execution_count": 22,
      "outputs": [
        {
          "output_type": "display_data",
          "data": {
            "text/plain": [
              "<Figure size 800x800 with 1 Axes>"
            ],
            "image/png": "[encoded data removed]"
          },
          "metadata": {}
        }
      ]
    },
    {
      "cell_type": "code",
      "source": [
        "x1=np.linspace(-2,2,1000000)\n",
        "y1=3*np.sqrt(1-((x1/2)**2))\n",
        "plt.plot(x,y,sns.color_palette().as_hex()[1])\n",
        "plt.plot(-x,-y,sns.color_palette().as_hex()[1])\n",
        "plt.plot(x1,y1,sns.color_palette().as_hex()[1])\n",
        "plt.plot(-x1,-y1,sns.color_palette().as_hex()[1])\n",
        "plt.xlim(-4,4)\n",
        "plt.ylim(-4,4)\n",
        "plt.show()"
      ],
      "metadata": {
        "colab": {
          "base_uri": "https://localhost:8080/",
          "height": 637
        },
        "id": "SlfzTvfBIDDP",
        "outputId": "31df8b27-fc78-4cf9-c354-cd8c172055df"
      },
      "execution_count": 23,
      "outputs": [
        {
          "output_type": "display_data",
          "data": {
            "text/plain": [
              "<Figure size 800x800 with 1 Axes>"
            ],
            "image/png": "[encoded data removed]"
          },
          "metadata": {}
        }
      ]
    },
    {
      "cell_type": "code",
      "source": [
        "# modify unit cirlce and basis vector by applying a matrix\n",
        "def PlotMatrix(matrix,vectCol=['#FF0000','#FFA500']):\n",
        "  #unit cirle\n",
        "  x=np.linspace(-1,1,1000000)\n",
        "  y=np.sqrt(1-(x**2))\n",
        "  #modified unit circle\n",
        "  x1=matrix[0,0]*x+matrix[0,1]*y\n",
        "  y1=matrix[1,0]*x+matrix[1,1]*y\n",
        "  x1_neg=matrix[0,0]*x-matrix[1,0]*y\n",
        "  y1_neg=matrix[1,0]*x-matrix[1,1]*y\n",
        "# vector\n",
        "  u1=[matrix[0,0],matrix[1,0]]\n",
        "  v1=[matrix[0,1],matrix[1,1]]\n",
        "  plotvec([u1,v1],col=[vectcol[0],vectcol[1]])\n",
        "  plt.plot(x1,y1,'g',alpha=0.5)\n",
        "  plt.plot(x1_neg,y1_neg,'g',alpha=0.5)\n"
      ],
      "metadata": {
        "id": "l2CSrsx-JZ0v"
      },
      "execution_count": 30,
      "outputs": []
    },
    {
      "cell_type": "code",
      "source": [
        "# plotting unit circle with finction\n",
        "U=np.array([[1,0],[0,1]])\n",
        "print('unit circle:')\n",
        "PlotMatrix(U)\n",
        "plt.xlim(-1.5,1.5)\n",
        "plt.ylim(-1.5,1.5)\n",
        "plt.show()"
      ],
      "metadata": {
        "colab": {
          "base_uri": "https://localhost:8080/",
          "height": 398
        },
        "id": "fhlSUbVHR8yD",
        "outputId": "d067062b-4ab7-42c8-b1ea-2b632d356cc3"
      },
      "execution_count": 31,
      "outputs": [
        {
          "output_type": "stream",
          "name": "stdout",
          "text": [
            "unit circle:\n"
          ]
        },
        {
          "output_type": "error",
          "ename": "NameError",
          "evalue": "ignored",
          "traceback": [
            "\u001b[0;31m---------------------------------------------------------------------------\u001b[0m",
            "\u001b[0;31mNameError\u001b[0m                                 Traceback (most recent call last)",
            "\u001b[0;32m<ipython-input-31-389919f36f55>\u001b[0m in \u001b[0;36m<cell line: 4>\u001b[0;34m()\u001b[0m\n\u001b[1;32m      2\u001b[0m \u001b[0mU\u001b[0m\u001b[0;34m=\u001b[0m\u001b[0mnp\u001b[0m\u001b[0;34m.\u001b[0m\u001b[0marray\u001b[0m\u001b[0;34m(\u001b[0m\u001b[0;34m[\u001b[0m\u001b[0;34m[\u001b[0m\u001b[0;36m1\u001b[0m\u001b[0;34m,\u001b[0m\u001b[0;36m0\u001b[0m\u001b[0;34m]\u001b[0m\u001b[0;34m,\u001b[0m\u001b[0;34m[\u001b[0m\u001b[0;36m0\u001b[0m\u001b[0;34m,\u001b[0m\u001b[0;36m1\u001b[0m\u001b[0;34m]\u001b[0m\u001b[0;34m]\u001b[0m\u001b[0;34m)\u001b[0m\u001b[0;34m\u001b[0m\u001b[0;34m\u001b[0m\u001b[0m\n\u001b[1;32m      3\u001b[0m \u001b[0mprint\u001b[0m\u001b[0;34m(\u001b[0m\u001b[0;34m'unit circle:'\u001b[0m\u001b[0;34m)\u001b[0m\u001b[0;34m\u001b[0m\u001b[0;34m\u001b[0m\u001b[0m\n\u001b[0;32m----> 4\u001b[0;31m \u001b[0mPlotMatrix\u001b[0m\u001b[0;34m(\u001b[0m\u001b[0mU\u001b[0m\u001b[0;34m)\u001b[0m\u001b[0;34m\u001b[0m\u001b[0;34m\u001b[0m\u001b[0m\n\u001b[0m\u001b[1;32m      5\u001b[0m \u001b[0mplt\u001b[0m\u001b[0;34m.\u001b[0m\u001b[0mxlim\u001b[0m\u001b[0;34m(\u001b[0m\u001b[0;34m-\u001b[0m\u001b[0;36m1.5\u001b[0m\u001b[0;34m,\u001b[0m\u001b[0;36m1.5\u001b[0m\u001b[0;34m)\u001b[0m\u001b[0;34m\u001b[0m\u001b[0;34m\u001b[0m\u001b[0m\n\u001b[1;32m      6\u001b[0m \u001b[0mplt\u001b[0m\u001b[0;34m.\u001b[0m\u001b[0mylim\u001b[0m\u001b[0;34m(\u001b[0m\u001b[0;34m-\u001b[0m\u001b[0;36m1.5\u001b[0m\u001b[0;34m,\u001b[0m\u001b[0;36m1.5\u001b[0m\u001b[0;34m)\u001b[0m\u001b[0;34m\u001b[0m\u001b[0;34m\u001b[0m\u001b[0m\n",
            "\u001b[0;32m<ipython-input-30-952b017fd73f>\u001b[0m in \u001b[0;36mPlotMatrix\u001b[0;34m(matrix, vectCol)\u001b[0m\n\u001b[1;32m     12\u001b[0m   \u001b[0mu1\u001b[0m\u001b[0;34m=\u001b[0m\u001b[0;34m[\u001b[0m\u001b[0mmatrix\u001b[0m\u001b[0;34m[\u001b[0m\u001b[0;36m0\u001b[0m\u001b[0;34m,\u001b[0m\u001b[0;36m0\u001b[0m\u001b[0;34m]\u001b[0m\u001b[0;34m,\u001b[0m\u001b[0mmatrix\u001b[0m\u001b[0;34m[\u001b[0m\u001b[0;36m1\u001b[0m\u001b[0;34m,\u001b[0m\u001b[0;36m0\u001b[0m\u001b[0;34m]\u001b[0m\u001b[0;34m]\u001b[0m\u001b[0;34m\u001b[0m\u001b[0;34m\u001b[0m\u001b[0m\n\u001b[1;32m     13\u001b[0m   \u001b[0mv1\u001b[0m\u001b[0;34m=\u001b[0m\u001b[0;34m[\u001b[0m\u001b[0mmatrix\u001b[0m\u001b[0;34m[\u001b[0m\u001b[0;36m0\u001b[0m\u001b[0;34m,\u001b[0m\u001b[0;36m1\u001b[0m\u001b[0;34m]\u001b[0m\u001b[0;34m,\u001b[0m\u001b[0mmatrix\u001b[0m\u001b[0;34m[\u001b[0m\u001b[0;36m1\u001b[0m\u001b[0;34m,\u001b[0m\u001b[0;36m1\u001b[0m\u001b[0;34m]\u001b[0m\u001b[0;34m]\u001b[0m\u001b[0;34m\u001b[0m\u001b[0;34m\u001b[0m\u001b[0m\n\u001b[0;32m---> 14\u001b[0;31m   \u001b[0mplotvec\u001b[0m\u001b[0;34m(\u001b[0m\u001b[0;34m[\u001b[0m\u001b[0mu1\u001b[0m\u001b[0;34m,\u001b[0m\u001b[0mv1\u001b[0m\u001b[0;34m]\u001b[0m\u001b[0;34m,\u001b[0m\u001b[0mcol\u001b[0m\u001b[0;34m=\u001b[0m\u001b[0;34m[\u001b[0m\u001b[0mvectcol\u001b[0m\u001b[0;34m[\u001b[0m\u001b[0;36m0\u001b[0m\u001b[0;34m]\u001b[0m\u001b[0;34m,\u001b[0m\u001b[0mvectcol\u001b[0m\u001b[0;34m[\u001b[0m\u001b[0;36m1\u001b[0m\u001b[0;34m]\u001b[0m\u001b[0;34m]\u001b[0m\u001b[0;34m)\u001b[0m\u001b[0;34m\u001b[0m\u001b[0;34m\u001b[0m\u001b[0m\n\u001b[0m\u001b[1;32m     15\u001b[0m   \u001b[0mplt\u001b[0m\u001b[0;34m.\u001b[0m\u001b[0mplot\u001b[0m\u001b[0;34m(\u001b[0m\u001b[0mx1\u001b[0m\u001b[0;34m,\u001b[0m\u001b[0my1\u001b[0m\u001b[0;34m,\u001b[0m\u001b[0;34m'g'\u001b[0m\u001b[0;34m,\u001b[0m\u001b[0malpha\u001b[0m\u001b[0;34m=\u001b[0m\u001b[0;36m0.5\u001b[0m\u001b[0;34m)\u001b[0m\u001b[0;34m\u001b[0m\u001b[0;34m\u001b[0m\u001b[0m\n\u001b[1;32m     16\u001b[0m   \u001b[0mplt\u001b[0m\u001b[0;34m.\u001b[0m\u001b[0mplot\u001b[0m\u001b[0;34m(\u001b[0m\u001b[0mx1_neg\u001b[0m\u001b[0;34m,\u001b[0m\u001b[0my1_neg\u001b[0m\u001b[0;34m,\u001b[0m\u001b[0;34m'g'\u001b[0m\u001b[0;34m,\u001b[0m\u001b[0malpha\u001b[0m\u001b[0;34m=\u001b[0m\u001b[0;36m0.5\u001b[0m\u001b[0;34m)\u001b[0m\u001b[0;34m\u001b[0m\u001b[0;34m\u001b[0m\u001b[0m\n",
            "\u001b[0;31mNameError\u001b[0m: name 'vectcol' is not defined"
          ]
        }
      ]
    },
    {
      "cell_type": "code",
      "source": [
        "import numpy as np\n",
        "\n",
        "# Define the matrix\n",
        "A = np.array([[4, 11, 14], [8, 7, -2]])\n",
        "\n",
        "# Compute the transpose\n",
        "AT = np.transpose(A)\n",
        "\n",
        "# Compute the product\n",
        "product = np.dot(AT, A)\n",
        "\n",
        "print(\"A^T*A = \")\n",
        "print(product)"
      ],
      "metadata": {
        "colab": {
          "base_uri": "https://localhost:8080/"
        },
        "id": "bAVeIQ1OS1bD",
        "outputId": "e833e0ed-fd57-4be7-abe5-17834ae84c68"
      },
      "execution_count": 33,
      "outputs": [
        {
          "output_type": "stream",
          "name": "stdout",
          "text": [
            "A^T*A = \n",
            "[[ 80 100  40]\n",
            " [100 170 140]\n",
            " [ 40 140 200]]\n"
          ]
        }
      ]
    },
    {
      "cell_type": "code",
      "source": [
        "import numpy as np\n",
        "\n",
        "# Coefficients of the cubic equation\n",
        "coeff = [1, -450, 41400, -21600]\n",
        "\n",
        "# Use NumPy's root function to find the roots\n",
        "roots = np.roots(coeff)\n",
        "\n",
        "print(\"The roots of the equation are: \", roots)\n",
        "\n"
      ],
      "metadata": {
        "colab": {
          "base_uri": "https://localhost:8080/"
        },
        "id": "Cj7defGHd6Gx",
        "outputId": "2d5ce21d-4ea4-4456-c611-6786c54a44c9"
      },
      "execution_count": 34,
      "outputs": [
        {
          "output_type": "stream",
          "name": "stdout",
          "text": [
            "The roots of the equation are:  [321.39609323 128.0791783    0.52472847]\n"
          ]
        }
      ]
    },
    {
      "cell_type": "code",
      "source": [
        "import numpy as np\n",
        "\n",
        "# Coefficients of the cubic equation\n",
        "coeff = [1, -450, 32400]\n",
        "\n",
        "# Use NumPy's root function to find the roots\n",
        "roots = np.roots(coeff)\n",
        "\n",
        "print(\"The roots of the equation are: \", roots)\n",
        "\n"
      ],
      "metadata": {
        "colab": {
          "base_uri": "https://localhost:8080/"
        },
        "id": "_cHjvXV9mUBu",
        "outputId": "0a33daa0-f694-45b5-ee33-b067ea526589"
      },
      "execution_count": 1,
      "outputs": [
        {
          "output_type": "stream",
          "name": "stdout",
          "text": [
            "The roots of the equation are:  [360.  90.]\n"
          ]
        }
      ]
    },
    {
      "cell_type": "code",
      "source": [
        "\n",
        "\n",
        "import numpy as np\n",
        "\n",
        "# Define the matrix\n",
        "A = np.array([[4, 11, 14], [8, 7, -2]])\n",
        "\n",
        "# Compute the rank\n",
        "rank = np.linalg.matrix_rank(A)\n",
        "\n",
        "print(\"The rank of the matrix is: \", rank)\n"
      ],
      "metadata": {
        "colab": {
          "base_uri": "https://localhost:8080/"
        },
        "id": "uakiQbiuYsdp",
        "outputId": "5634c2d7-ab92-4011-af72-32eca07fc6d3"
      },
      "execution_count": 3,
      "outputs": [
        {
          "output_type": "stream",
          "name": "stdout",
          "text": [
            "The rank of the matrix is:  2\n"
          ]
        }
      ]
    },
    {
      "cell_type": "code",
      "source": [],
      "metadata": {
        "id": "qHMHe46fc94X"
      },
      "execution_count": null,
      "outputs": []
    }
  ]
}